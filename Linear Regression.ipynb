{
 "cells": [
  {
   "cell_type": "code",
   "execution_count": 12,
   "metadata": {},
   "outputs": [],
   "source": [
    "import numpy as np\n",
    "import matplotlib.pyplot as plt\n",
    "import pandas as pd\n",
    "import seaborn as sns\n",
    "%matplotlib inline"
   ]
  },
  {
   "cell_type": "code",
   "execution_count": 13,
   "metadata": {},
   "outputs": [],
   "source": [
    "companies = pd.read_csv('C:\\\\Users\\jemmy\\Desktop\\data\\Companies.csv')\n",
    "X = companies.iloc[:, :-1].values\n",
    "y = companies.iloc[:, 4].values"
   ]
  },
  {
   "cell_type": "code",
   "execution_count": 14,
   "metadata": {},
   "outputs": [
    {
     "data": {
      "text/html": [
       "<div>\n",
       "<style scoped>\n",
       "    .dataframe tbody tr th:only-of-type {\n",
       "        vertical-align: middle;\n",
       "    }\n",
       "\n",
       "    .dataframe tbody tr th {\n",
       "        vertical-align: top;\n",
       "    }\n",
       "\n",
       "    .dataframe thead th {\n",
       "        text-align: right;\n",
       "    }\n",
       "</style>\n",
       "<table border=\"1\" class=\"dataframe\">\n",
       "  <thead>\n",
       "    <tr style=\"text-align: right;\">\n",
       "      <th></th>\n",
       "      <th>R&amp;D Spend</th>\n",
       "      <th>Administration</th>\n",
       "      <th>Marketing Spend</th>\n",
       "      <th>State</th>\n",
       "      <th>Profit</th>\n",
       "    </tr>\n",
       "  </thead>\n",
       "  <tbody>\n",
       "    <tr>\n",
       "      <th>0</th>\n",
       "      <td>165349.20</td>\n",
       "      <td>136897.80</td>\n",
       "      <td>471784.10</td>\n",
       "      <td>New York</td>\n",
       "      <td>192261.83</td>\n",
       "    </tr>\n",
       "    <tr>\n",
       "      <th>1</th>\n",
       "      <td>162597.70</td>\n",
       "      <td>151377.59</td>\n",
       "      <td>443898.53</td>\n",
       "      <td>California</td>\n",
       "      <td>191792.06</td>\n",
       "    </tr>\n",
       "    <tr>\n",
       "      <th>2</th>\n",
       "      <td>153441.51</td>\n",
       "      <td>101145.55</td>\n",
       "      <td>407934.54</td>\n",
       "      <td>Florida</td>\n",
       "      <td>191050.39</td>\n",
       "    </tr>\n",
       "    <tr>\n",
       "      <th>3</th>\n",
       "      <td>144372.41</td>\n",
       "      <td>118671.85</td>\n",
       "      <td>383199.62</td>\n",
       "      <td>New York</td>\n",
       "      <td>182901.99</td>\n",
       "    </tr>\n",
       "    <tr>\n",
       "      <th>4</th>\n",
       "      <td>142107.34</td>\n",
       "      <td>91391.77</td>\n",
       "      <td>366168.42</td>\n",
       "      <td>Florida</td>\n",
       "      <td>166187.94</td>\n",
       "    </tr>\n",
       "  </tbody>\n",
       "</table>\n",
       "</div>"
      ],
      "text/plain": [
       "   R&D Spend  Administration  Marketing Spend       State     Profit\n",
       "0  165349.20       136897.80        471784.10    New York  192261.83\n",
       "1  162597.70       151377.59        443898.53  California  191792.06\n",
       "2  153441.51       101145.55        407934.54     Florida  191050.39\n",
       "3  144372.41       118671.85        383199.62    New York  182901.99\n",
       "4  142107.34        91391.77        366168.42     Florida  166187.94"
      ]
     },
     "execution_count": 14,
     "metadata": {},
     "output_type": "execute_result"
    }
   ],
   "source": [
    "companies.head()"
   ]
  },
  {
   "cell_type": "code",
   "execution_count": 15,
   "metadata": {},
   "outputs": [
    {
     "data": {
      "text/plain": [
       "<AxesSubplot:>"
      ]
     },
     "execution_count": 15,
     "metadata": {},
     "output_type": "execute_result"
    },
    {
     "data": {
      "image/png": "[encoded data removed]",
      "text/plain": [
       "<Figure size 432x288 with 2 Axes>"
      ]
     },
     "metadata": {
      "needs_background": "light"
     },
     "output_type": "display_data"
    }
   ],
   "source": [
    "sns.heatmap(companies.corr())"
   ]
  },
  {
   "cell_type": "code",
   "execution_count": 16,
   "metadata": {},
   "outputs": [],
   "source": [
    "from sklearn.preprocessing import LabelEncoder, OneHotEncoder\n",
    "labelencoder = LabelEncoder()\n",
    "X[:, 3] = labelencoder.fit_transform(X[:, 3])\n",
    "onehotencoder = OneHotEncoder(categories='auto')\n",
    "X = onehotencoder.fit_transform(X)"
   ]
  },
  {
   "cell_type": "code",
   "execution_count": 17,
   "metadata": {},
   "outputs": [],
   "source": [
    "X = X[:, 1:]"
   ]
  },
  {
   "cell_type": "code",
   "execution_count": 18,
   "metadata": {},
   "outputs": [],
   "source": [
    "from sklearn.model_selection import train_test_split\n",
    "X_train, X_test, y_train, y_test = train_test_split(X, y, test_size = 0.2, random_state = 0)"
   ]
  },
  {
   "cell_type": "code",
   "execution_count": 19,
   "metadata": {},
   "outputs": [
    {
     "data": {
      "text/plain": [
       "LinearRegression()"
      ]
     },
     "execution_count": 19,
     "metadata": {},
     "output_type": "execute_result"
    }
   ],
   "source": [
    "from sklearn.linear_model import LinearRegression\n",
    "regressor = LinearRegression()\n",
    "regressor.fit(X_train, y_train)"
   ]
  },
  {
   "cell_type": "code",
   "execution_count": 20,
   "metadata": {},
   "outputs": [
    {
     "data": {
      "text/plain": [
       "array([119054.05201921, 119054.05201921, 119054.05201921, 118671.40489587,\n",
       "       117833.60654666, 117833.60654666, 117833.60654666, 119054.05201921,\n",
       "       117833.60654666, 118671.40489587, 119054.05201921, 118671.40489587,\n",
       "       119054.05201921, 119054.05201921, 119054.05201921, 117833.60654666,\n",
       "       118671.40489587, 119054.05201921, 118671.40489587, 117833.60654666,\n",
       "       117833.60654666, 119054.05201921, 118671.40489587, 119054.05201921,\n",
       "       119054.05201921, 119054.05201921, 117833.60654666, 117833.60654666,\n",
       "       119054.05201921, 119054.05201921, 118671.40489587, 119054.05201921,\n",
       "       117833.60654666, 118671.40489587, 119054.05201921, 119054.05201921,\n",
       "       117833.60654666, 118671.40489587, 118671.40489587, 118671.40489587,\n",
       "       117833.60654666, 119054.05201921, 119054.05201921, 118671.40489587,\n",
       "       118671.40489587, 119054.05201921, 118671.40489587, 118671.40489587,\n",
       "       118671.40489587, 118671.40489587, 118671.40489587, 118671.40489587,\n",
       "       119054.05201921, 117833.60654666, 179419.37542458, 118671.40489587,\n",
       "       118671.40489587, 117833.60654666, 117833.60654666, 117833.60654666,\n",
       "       118671.40489587, 117833.60654666, 119054.05201921, 117833.60654666,\n",
       "       119054.05201921, 118671.40489587, 117833.60654666, 117833.60654666,\n",
       "       117833.60654666, 118671.40489587, 119054.05201921, 119054.05201921,\n",
       "       118671.40489587, 117833.60654666, 119054.05201921, 117833.60654666,\n",
       "       118671.40489587, 117833.60654666, 119054.05201921, 119054.05201921,\n",
       "       118671.40489587, 119054.05201921, 117833.60654666, 119054.05201921,\n",
       "       117833.60654666, 117833.60654666, 119054.05201921, 117833.60654666,\n",
       "       119054.05201921, 117833.60654666, 117833.60654666, 119054.05201921,\n",
       "       117833.60654666, 118671.40489587, 117833.60654666, 117833.60654666,\n",
       "       118671.40489587, 117833.60654666, 117833.60654666, 119054.05201921,\n",
       "       118671.40489587, 118671.40489587, 117833.60654666, 118671.40489587,\n",
       "       117833.60654666, 118671.40489587, 117833.60654666, 117833.60654666,\n",
       "       119054.05201921, 117833.60654666, 119054.05201921, 119054.05201921,\n",
       "       117833.60654666, 117833.60654666, 119054.05201921, 119054.05201921,\n",
       "       119054.05201921, 119054.05201921, 119054.05201921, 117833.60654666,\n",
       "       118671.40489587, 118671.40489587, 118671.40489587, 118671.40489587,\n",
       "       118671.40489587, 119054.05201921, 117833.60654666, 119054.05201921,\n",
       "       119054.05201921, 119054.05201921, 117833.60654666, 117833.60654666,\n",
       "       119054.05201921, 117833.60654666, 119054.05201921, 117833.60654666,\n",
       "       118671.40489587, 117833.60654666, 118671.40489587, 118671.40489587,\n",
       "       119054.05201921, 119054.05201921, 117833.60654666, 117833.60654666,\n",
       "       117833.60654666, 117833.60654666, 118671.40489587, 119054.05201921,\n",
       "       118671.40489587, 119054.05201921, 118671.40489587, 118671.40489587,\n",
       "       119054.05201921, 119054.05201921, 118671.40489587, 119054.05201921,\n",
       "       118671.40489587, 118671.40489587, 117833.60654666, 118671.40489587,\n",
       "       119054.05201921, 119054.05201921, 117833.60654666, 117833.60654666,\n",
       "       117833.60654666, 118671.40489587, 118671.40489587, 117833.60654666,\n",
       "       117833.60654666, 117833.60654666, 117833.60654666, 118671.40489587,\n",
       "       117833.60654666, 118671.40489587, 117833.60654666, 118671.40489587,\n",
       "       118671.40489587, 117833.60654666, 117833.60654666, 119054.05201921,\n",
       "       118671.40489587, 117833.60654666, 119054.05201921, 117833.60654666,\n",
       "       118671.40489587, 118671.40489587, 118671.40489587, 119054.05201921,\n",
       "       117833.60654666, 117833.60654666, 118671.40489587, 119054.05201921,\n",
       "       117833.60654666, 117833.60654666, 119054.05201921, 119054.05201921,\n",
       "       118671.40489587, 119054.05201921, 117833.60654666, 117833.60654666])"
      ]
     },
     "execution_count": 20,
     "metadata": {},
     "output_type": "execute_result"
    }
   ],
   "source": [
    "y_pred = regressor.predict(X_test)\n",
    "y_pred"
   ]
  },
  {
   "cell_type": "code",
   "execution_count": 21,
   "metadata": {},
   "outputs": [
    {
     "name": "stdout",
     "output_type": "stream",
     "text": [
      "[-21896.29932812      0.         -22587.58012032 ...    534.36419863\n",
      "    151.71707529   -686.08127392]\n"
     ]
    }
   ],
   "source": [
    "print(regressor.coef_)"
   ]
  },
  {
   "cell_type": "code",
   "execution_count": 22,
   "metadata": {},
   "outputs": [
    {
     "name": "stdout",
     "output_type": "stream",
     "text": [
      "118519.68782057846\n"
     ]
    }
   ],
   "source": [
    "print(regressor.intercept_)"
   ]
  },
  {
   "cell_type": "code",
   "execution_count": 23,
   "metadata": {},
   "outputs": [
    {
     "data": {
      "text/plain": [
       "-0.0031989616353200745"
      ]
     },
     "execution_count": 23,
     "metadata": {},
     "output_type": "execute_result"
    }
   ],
   "source": [
    "from sklearn.metrics import r2_score\n",
    "r2_score(y_test, y_pred)"
   ]
  },
  {
   "cell_type": "code",
   "execution_count": null,
   "metadata": {},
   "outputs": [],
   "source": []
  }
 ],
 "metadata": {
  "kernelspec": {
   "display_name": "Python 3",
   "language": "python",
   "name": "python3"
  },
  "language_info": {
   "codemirror_mode": {
    "name": "ipython",
    "version": 3
   },
   "file_extension": ".py",
   "mimetype": "text/x-python",
   "name": "python",
   "nbconvert_exporter": "python",
   "pygments_lexer": "ipython3",
   "version": "3.6.13"
  }
 },
 "nbformat": 4,
 "nbformat_minor": 2
}
