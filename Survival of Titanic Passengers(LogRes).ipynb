{
 "cells": [
  {
   "cell_type": "code",
   "execution_count": 1,
   "id": "2ac74429",
   "metadata": {},
   "outputs": [],
   "source": [
    "import pandas as pd\n",
    "import numpy as np\n",
    "\n",
    "import matplotlib\n",
    "import matplotlib.pyplot as plt\n",
    "from pandas.plotting import scatter_matrix\n",
    "%matplotlib inline\n",
    "\n",
    "import seaborn as sns\n",
    "sns.set(style=\"white\", color_codes=True)\n",
    "sns.set(font_scale=1.5)\n",
    "\n",
    "from sklearn.linear_model import LogisticRegression\n",
    "from sklearn.model_selection import train_test_split\n",
    "\n",
    "from sklearn.metrics import confusion_matrix\n",
    "from sklearn.metrics import classification_report\n",
    "from sklearn.metrics import accuracy_score\n",
    "from sklearn.metrics import precision_score\n",
    "from sklearn.metrics import recall_score\n",
    "from sklearn.metrics import f1_score\n",
    "from sklearn import metrics"
   ]
  },
  {
   "cell_type": "code",
   "execution_count": 2,
   "id": "4c6bc2eb",
   "metadata": {},
   "outputs": [
    {
     "data": {
      "text/plain": [
       "(891, 12)"
      ]
     },
     "execution_count": 2,
     "metadata": {},
     "output_type": "execute_result"
    }
   ],
   "source": [
    "df_train = pd.read_csv(\"train.csv\")\n",
    "df_train.shape"
   ]
  },
  {
   "cell_type": "code",
   "execution_count": 3,
   "id": "fd4c5cd0",
   "metadata": {},
   "outputs": [
    {
     "data": {
      "text/plain": [
       "0    549\n",
       "1    342\n",
       "Name: Survived, dtype: int64"
      ]
     },
     "execution_count": 3,
     "metadata": {},
     "output_type": "execute_result"
    }
   ],
   "source": [
    "df_train.Survived.value_counts()"
   ]
  },
  {
   "cell_type": "code",
   "execution_count": 4,
   "id": "251bfbd7",
   "metadata": {},
   "outputs": [
    {
     "data": {
      "text/plain": [
       "male      577\n",
       "female    314\n",
       "Name: Sex, dtype: int64"
      ]
     },
     "execution_count": 4,
     "metadata": {},
     "output_type": "execute_result"
    }
   ],
   "source": [
    "df_train.Sex.value_counts()"
   ]
  },
  {
   "cell_type": "code",
   "execution_count": 5,
   "id": "16b6ce8b",
   "metadata": {},
   "outputs": [
    {
     "data": {
      "text/plain": [
       "S    644\n",
       "C    168\n",
       "Q     77\n",
       "Name: Embarked, dtype: int64"
      ]
     },
     "execution_count": 5,
     "metadata": {},
     "output_type": "execute_result"
    }
   ],
   "source": [
    "df_train.Embarked.value_counts()"
   ]
  },
  {
   "cell_type": "code",
   "execution_count": 6,
   "id": "c3701071",
   "metadata": {},
   "outputs": [
    {
     "data": {
      "text/plain": [
       "PassengerId      0\n",
       "Survived         0\n",
       "Pclass           0\n",
       "Name             0\n",
       "Sex              0\n",
       "Age            177\n",
       "SibSp            0\n",
       "Parch            0\n",
       "Ticket           0\n",
       "Fare             0\n",
       "Cabin          687\n",
       "Embarked         2\n",
       "dtype: int64"
      ]
     },
     "execution_count": 6,
     "metadata": {},
     "output_type": "execute_result"
    }
   ],
   "source": [
    "df_train.isnull().sum()"
   ]
  },
  {
   "cell_type": "code",
   "execution_count": 7,
   "id": "ab86f7e1",
   "metadata": {},
   "outputs": [
    {
     "data": {
      "text/html": [
       "<div>\n",
       "<style scoped>\n",
       "    .dataframe tbody tr th:only-of-type {\n",
       "        vertical-align: middle;\n",
       "    }\n",
       "\n",
       "    .dataframe tbody tr th {\n",
       "        vertical-align: top;\n",
       "    }\n",
       "\n",
       "    .dataframe thead th {\n",
       "        text-align: right;\n",
       "    }\n",
       "</style>\n",
       "<table border=\"1\" class=\"dataframe\">\n",
       "  <thead>\n",
       "    <tr style=\"text-align: right;\">\n",
       "      <th></th>\n",
       "      <th>Survived</th>\n",
       "      <th>Pclass</th>\n",
       "      <th>Sex</th>\n",
       "      <th>Age</th>\n",
       "      <th>SibSp</th>\n",
       "      <th>Parch</th>\n",
       "      <th>Fare</th>\n",
       "      <th>Embarked</th>\n",
       "    </tr>\n",
       "  </thead>\n",
       "  <tbody>\n",
       "    <tr>\n",
       "      <th>0</th>\n",
       "      <td>0</td>\n",
       "      <td>3</td>\n",
       "      <td>male</td>\n",
       "      <td>22.0</td>\n",
       "      <td>1</td>\n",
       "      <td>0</td>\n",
       "      <td>7.2500</td>\n",
       "      <td>S</td>\n",
       "    </tr>\n",
       "    <tr>\n",
       "      <th>1</th>\n",
       "      <td>1</td>\n",
       "      <td>1</td>\n",
       "      <td>female</td>\n",
       "      <td>38.0</td>\n",
       "      <td>1</td>\n",
       "      <td>0</td>\n",
       "      <td>71.2833</td>\n",
       "      <td>C</td>\n",
       "    </tr>\n",
       "    <tr>\n",
       "      <th>2</th>\n",
       "      <td>1</td>\n",
       "      <td>3</td>\n",
       "      <td>female</td>\n",
       "      <td>26.0</td>\n",
       "      <td>0</td>\n",
       "      <td>0</td>\n",
       "      <td>7.9250</td>\n",
       "      <td>S</td>\n",
       "    </tr>\n",
       "    <tr>\n",
       "      <th>3</th>\n",
       "      <td>1</td>\n",
       "      <td>1</td>\n",
       "      <td>female</td>\n",
       "      <td>35.0</td>\n",
       "      <td>1</td>\n",
       "      <td>0</td>\n",
       "      <td>53.1000</td>\n",
       "      <td>S</td>\n",
       "    </tr>\n",
       "    <tr>\n",
       "      <th>4</th>\n",
       "      <td>0</td>\n",
       "      <td>3</td>\n",
       "      <td>male</td>\n",
       "      <td>35.0</td>\n",
       "      <td>0</td>\n",
       "      <td>0</td>\n",
       "      <td>8.0500</td>\n",
       "      <td>S</td>\n",
       "    </tr>\n",
       "  </tbody>\n",
       "</table>\n",
       "</div>"
      ],
      "text/plain": [
       "   Survived  Pclass     Sex   Age  SibSp  Parch     Fare Embarked\n",
       "0         0       3    male  22.0      1      0   7.2500        S\n",
       "1         1       1  female  38.0      1      0  71.2833        C\n",
       "2         1       3  female  26.0      0      0   7.9250        S\n",
       "3         1       1  female  35.0      1      0  53.1000        S\n",
       "4         0       3    male  35.0      0      0   8.0500        S"
      ]
     },
     "execution_count": 7,
     "metadata": {},
     "output_type": "execute_result"
    }
   ],
   "source": [
    "df_train = df_train.drop(['PassengerId','Name','Ticket','Cabin'],axis=1)\n",
    "df_train.head()"
   ]
  },
  {
   "cell_type": "code",
   "execution_count": 8,
   "id": "f1b27d5e",
   "metadata": {},
   "outputs": [],
   "source": [
    "def age_approx(cols):\n",
    "    Age = cols[0]\n",
    "    Pclass = cols[1]\n",
    "    \n",
    "    if pd.isnull(Age):\n",
    "        if Pclass ==1:\n",
    "            return 37\n",
    "        elif Pclass ==2:\n",
    "            return 29\n",
    "        else:\n",
    "            return 24\n",
    "    else:\n",
    "        return Age"
   ]
  },
  {
   "cell_type": "code",
   "execution_count": 9,
   "id": "fa3120bf",
   "metadata": {},
   "outputs": [
    {
     "data": {
      "text/html": [
       "<div>\n",
       "<style scoped>\n",
       "    .dataframe tbody tr th:only-of-type {\n",
       "        vertical-align: middle;\n",
       "    }\n",
       "\n",
       "    .dataframe tbody tr th {\n",
       "        vertical-align: top;\n",
       "    }\n",
       "\n",
       "    .dataframe thead th {\n",
       "        text-align: right;\n",
       "    }\n",
       "</style>\n",
       "<table border=\"1\" class=\"dataframe\">\n",
       "  <thead>\n",
       "    <tr style=\"text-align: right;\">\n",
       "      <th></th>\n",
       "      <th>Survived</th>\n",
       "      <th>Age</th>\n",
       "      <th>SibSp</th>\n",
       "      <th>Parch</th>\n",
       "      <th>Fare</th>\n",
       "    </tr>\n",
       "    <tr>\n",
       "      <th>Pclass</th>\n",
       "      <th></th>\n",
       "      <th></th>\n",
       "      <th></th>\n",
       "      <th></th>\n",
       "      <th></th>\n",
       "    </tr>\n",
       "  </thead>\n",
       "  <tbody>\n",
       "    <tr>\n",
       "      <th>1</th>\n",
       "      <td>0.629630</td>\n",
       "      <td>38.233441</td>\n",
       "      <td>0.416667</td>\n",
       "      <td>0.356481</td>\n",
       "      <td>84.154687</td>\n",
       "    </tr>\n",
       "    <tr>\n",
       "      <th>2</th>\n",
       "      <td>0.472826</td>\n",
       "      <td>29.877630</td>\n",
       "      <td>0.402174</td>\n",
       "      <td>0.380435</td>\n",
       "      <td>20.662183</td>\n",
       "    </tr>\n",
       "    <tr>\n",
       "      <th>3</th>\n",
       "      <td>0.242363</td>\n",
       "      <td>25.140620</td>\n",
       "      <td>0.615071</td>\n",
       "      <td>0.393075</td>\n",
       "      <td>13.675550</td>\n",
       "    </tr>\n",
       "  </tbody>\n",
       "</table>\n",
       "</div>"
      ],
      "text/plain": [
       "        Survived        Age     SibSp     Parch       Fare\n",
       "Pclass                                                    \n",
       "1       0.629630  38.233441  0.416667  0.356481  84.154687\n",
       "2       0.472826  29.877630  0.402174  0.380435  20.662183\n",
       "3       0.242363  25.140620  0.615071  0.393075  13.675550"
      ]
     },
     "execution_count": 9,
     "metadata": {},
     "output_type": "execute_result"
    }
   ],
   "source": [
    "df_train.groupby(['Pclass']).mean()"
   ]
  },
  {
   "cell_type": "code",
   "execution_count": 10,
   "id": "280f4587",
   "metadata": {},
   "outputs": [],
   "source": [
    "df_train['Age'] = df_train[['Age','Pclass']].apply(age_approx, axis=1)"
   ]
  },
  {
   "cell_type": "code",
   "execution_count": 11,
   "id": "2f318f83",
   "metadata": {},
   "outputs": [
    {
     "data": {
      "text/plain": [
       "Survived    0\n",
       "Pclass      0\n",
       "Sex         0\n",
       "Age         0\n",
       "SibSp       0\n",
       "Parch       0\n",
       "Fare        0\n",
       "Embarked    2\n",
       "dtype: int64"
      ]
     },
     "execution_count": 11,
     "metadata": {},
     "output_type": "execute_result"
    }
   ],
   "source": [
    "df_train.isnull().sum()"
   ]
  },
  {
   "cell_type": "code",
   "execution_count": 12,
   "id": "b14201e2",
   "metadata": {},
   "outputs": [
    {
     "data": {
      "text/plain": [
       "Survived    0\n",
       "Pclass      0\n",
       "Sex         0\n",
       "Age         0\n",
       "SibSp       0\n",
       "Parch       0\n",
       "Fare        0\n",
       "Embarked    0\n",
       "dtype: int64"
      ]
     },
     "execution_count": 12,
     "metadata": {},
     "output_type": "execute_result"
    }
   ],
   "source": [
    "df_train.dropna(inplace=True)\n",
    "df_train.isnull().sum()"
   ]
  },
  {
   "cell_type": "code",
   "execution_count": 13,
   "id": "24c9de77",
   "metadata": {},
   "outputs": [
    {
     "data": {
      "text/plain": [
       "Survived      int64\n",
       "Pclass        int64\n",
       "Sex          object\n",
       "Age         float64\n",
       "SibSp         int64\n",
       "Parch         int64\n",
       "Fare        float64\n",
       "Embarked     object\n",
       "dtype: object"
      ]
     },
     "execution_count": 13,
     "metadata": {},
     "output_type": "execute_result"
    }
   ],
   "source": [
    "df_train.dtypes"
   ]
  },
  {
   "cell_type": "code",
   "execution_count": 14,
   "id": "9124a840",
   "metadata": {},
   "outputs": [],
   "source": [
    "df_train_dummied = pd.get_dummies(df_train,columns=[\"Sex\"])"
   ]
  },
  {
   "cell_type": "code",
   "execution_count": 15,
   "id": "a48e18e2",
   "metadata": {},
   "outputs": [],
   "source": [
    "df_train_dummied = pd.get_dummies(df_train_dummied,columns=[\"Embarked\"])"
   ]
  },
  {
   "cell_type": "code",
   "execution_count": 16,
   "id": "83a604a9",
   "metadata": {},
   "outputs": [
    {
     "data": {
      "text/html": [
       "<div>\n",
       "<style scoped>\n",
       "    .dataframe tbody tr th:only-of-type {\n",
       "        vertical-align: middle;\n",
       "    }\n",
       "\n",
       "    .dataframe tbody tr th {\n",
       "        vertical-align: top;\n",
       "    }\n",
       "\n",
       "    .dataframe thead th {\n",
       "        text-align: right;\n",
       "    }\n",
       "</style>\n",
       "<table border=\"1\" class=\"dataframe\">\n",
       "  <thead>\n",
       "    <tr style=\"text-align: right;\">\n",
       "      <th></th>\n",
       "      <th>Survived</th>\n",
       "      <th>Pclass</th>\n",
       "      <th>Age</th>\n",
       "      <th>SibSp</th>\n",
       "      <th>Parch</th>\n",
       "      <th>Fare</th>\n",
       "      <th>Sex_female</th>\n",
       "      <th>Sex_male</th>\n",
       "      <th>Embarked_C</th>\n",
       "      <th>Embarked_Q</th>\n",
       "      <th>Embarked_S</th>\n",
       "    </tr>\n",
       "  </thead>\n",
       "  <tbody>\n",
       "    <tr>\n",
       "      <th>0</th>\n",
       "      <td>0</td>\n",
       "      <td>3</td>\n",
       "      <td>22.0</td>\n",
       "      <td>1</td>\n",
       "      <td>0</td>\n",
       "      <td>7.2500</td>\n",
       "      <td>0</td>\n",
       "      <td>1</td>\n",
       "      <td>0</td>\n",
       "      <td>0</td>\n",
       "      <td>1</td>\n",
       "    </tr>\n",
       "    <tr>\n",
       "      <th>1</th>\n",
       "      <td>1</td>\n",
       "      <td>1</td>\n",
       "      <td>38.0</td>\n",
       "      <td>1</td>\n",
       "      <td>0</td>\n",
       "      <td>71.2833</td>\n",
       "      <td>1</td>\n",
       "      <td>0</td>\n",
       "      <td>1</td>\n",
       "      <td>0</td>\n",
       "      <td>0</td>\n",
       "    </tr>\n",
       "    <tr>\n",
       "      <th>2</th>\n",
       "      <td>1</td>\n",
       "      <td>3</td>\n",
       "      <td>26.0</td>\n",
       "      <td>0</td>\n",
       "      <td>0</td>\n",
       "      <td>7.9250</td>\n",
       "      <td>1</td>\n",
       "      <td>0</td>\n",
       "      <td>0</td>\n",
       "      <td>0</td>\n",
       "      <td>1</td>\n",
       "    </tr>\n",
       "    <tr>\n",
       "      <th>3</th>\n",
       "      <td>1</td>\n",
       "      <td>1</td>\n",
       "      <td>35.0</td>\n",
       "      <td>1</td>\n",
       "      <td>0</td>\n",
       "      <td>53.1000</td>\n",
       "      <td>1</td>\n",
       "      <td>0</td>\n",
       "      <td>0</td>\n",
       "      <td>0</td>\n",
       "      <td>1</td>\n",
       "    </tr>\n",
       "    <tr>\n",
       "      <th>4</th>\n",
       "      <td>0</td>\n",
       "      <td>3</td>\n",
       "      <td>35.0</td>\n",
       "      <td>0</td>\n",
       "      <td>0</td>\n",
       "      <td>8.0500</td>\n",
       "      <td>0</td>\n",
       "      <td>1</td>\n",
       "      <td>0</td>\n",
       "      <td>0</td>\n",
       "      <td>1</td>\n",
       "    </tr>\n",
       "  </tbody>\n",
       "</table>\n",
       "</div>"
      ],
      "text/plain": [
       "   Survived  Pclass   Age  SibSp  Parch     Fare  Sex_female  Sex_male  \\\n",
       "0         0       3  22.0      1      0   7.2500           0         1   \n",
       "1         1       1  38.0      1      0  71.2833           1         0   \n",
       "2         1       3  26.0      0      0   7.9250           1         0   \n",
       "3         1       1  35.0      1      0  53.1000           1         0   \n",
       "4         0       3  35.0      0      0   8.0500           0         1   \n",
       "\n",
       "   Embarked_C  Embarked_Q  Embarked_S  \n",
       "0           0           0           1  \n",
       "1           1           0           0  \n",
       "2           0           0           1  \n",
       "3           0           0           1  \n",
       "4           0           0           1  "
      ]
     },
     "execution_count": 16,
     "metadata": {},
     "output_type": "execute_result"
    }
   ],
   "source": [
    "df_train_dummied.head()"
   ]
  },
  {
   "cell_type": "code",
   "execution_count": 17,
   "id": "74af912e",
   "metadata": {},
   "outputs": [
    {
     "data": {
      "text/plain": [
       "<AxesSubplot:>"
      ]
     },
     "execution_count": 17,
     "metadata": {},
     "output_type": "execute_result"
    },
    {
     "data": {
      "image/png": "[encoded data removed]",
      "text/plain": [
       "<Figure size 432x288 with 2 Axes>"
      ]
     },
     "metadata": {},
     "output_type": "display_data"
    }
   ],
   "source": [
    "plt.figure(figsize=(6,4))\n",
    "sns.heatmap(df_train_dummied.corr())"
   ]
  },
  {
   "cell_type": "code",
   "execution_count": 18,
   "id": "0b02c212",
   "metadata": {},
   "outputs": [],
   "source": [
    "used_features = [\"Pclass\",\"Age\",\"SibSp\",\"Parch\",\"Sex_female\",\"Sex_male\"\n",
    "                ,\"Embarked_C\",\"Embarked_Q\",\"Embarked_S\"]\n",
    "\n",
    "X = df_train_dummied[used_features].values\n",
    "y = df_train_dummied['Survived']"
   ]
  },
  {
   "cell_type": "code",
   "execution_count": 19,
   "id": "5dd5ae9f",
   "metadata": {},
   "outputs": [],
   "source": [
    "X_train,X_test,y_train,y_test = train_test_split(X,y,test_size=0.3,random_state=1)"
   ]
  },
  {
   "cell_type": "code",
   "execution_count": 20,
   "id": "6dae9329",
   "metadata": {},
   "outputs": [
    {
     "name": "stdout",
     "output_type": "stream",
     "text": [
      "(622, 9)\n",
      "(267, 9)\n",
      "(622,)\n",
      "(267,)\n"
     ]
    }
   ],
   "source": [
    "print(X_train.shape)\n",
    "print(X_test.shape)\n",
    "print(y_train.shape)\n",
    "print(y_test.shape)"
   ]
  },
  {
   "cell_type": "code",
   "execution_count": 21,
   "id": "985f2597",
   "metadata": {},
   "outputs": [
    {
     "name": "stderr",
     "output_type": "stream",
     "text": [
      "C:\\Users\\jemmy\\anaconda3\\envs\\pyy\\lib\\site-packages\\sklearn\\linear_model\\_logistic.py:765: ConvergenceWarning: lbfgs failed to converge (status=1):\n",
      "STOP: TOTAL NO. of ITERATIONS REACHED LIMIT.\n",
      "\n",
      "Increase the number of iterations (max_iter) or scale the data as shown in:\n",
      "    https://scikit-learn.org/stable/modules/preprocessing.html\n",
      "Please also refer to the documentation for alternative solver options:\n",
      "    https://scikit-learn.org/stable/modules/linear_model.html#logistic-regression\n",
      "  extra_warning_msg=_LOGISTIC_SOLVER_CONVERGENCE_MSG)\n"
     ]
    },
    {
     "data": {
      "text/plain": [
       "LogisticRegression()"
      ]
     },
     "execution_count": 21,
     "metadata": {},
     "output_type": "execute_result"
    }
   ],
   "source": [
    "LogReg = LogisticRegression()\n",
    "LogReg.fit(X_train,y_train)"
   ]
  },
  {
   "cell_type": "code",
   "execution_count": 22,
   "id": "3d61a92c",
   "metadata": {},
   "outputs": [],
   "source": [
    "y_pred = LogReg.predict(X_test)"
   ]
  },
  {
   "cell_type": "code",
   "execution_count": 23,
   "id": "6ac0eaf5",
   "metadata": {},
   "outputs": [
    {
     "data": {
      "text/plain": [
       "array([[143,  23],\n",
       "       [ 22,  79]], dtype=int64)"
      ]
     },
     "execution_count": 23,
     "metadata": {},
     "output_type": "execute_result"
    }
   ],
   "source": [
    "metrics.confusion_matrix(y_test,y_pred)"
   ]
  },
  {
   "cell_type": "code",
   "execution_count": 24,
   "id": "bb9b6b55",
   "metadata": {},
   "outputs": [
    {
     "data": {
      "text/plain": [
       "0.8314606741573034"
      ]
     },
     "execution_count": 24,
     "metadata": {},
     "output_type": "execute_result"
    }
   ],
   "source": [
    "metrics.accuracy_score(y_test,y_pred)"
   ]
  },
  {
   "cell_type": "code",
   "execution_count": 25,
   "id": "6261f00a",
   "metadata": {},
   "outputs": [
    {
     "data": {
      "text/plain": [
       "267"
      ]
     },
     "execution_count": 25,
     "metadata": {},
     "output_type": "execute_result"
    }
   ],
   "source": [
    "len(X_test)"
   ]
  },
  {
   "cell_type": "code",
   "execution_count": 26,
   "id": "3c812732",
   "metadata": {},
   "outputs": [
    {
     "name": "stdout",
     "output_type": "stream",
     "text": [
      "              precision    recall  f1-score   support\n",
      "\n",
      "           0       0.87      0.86      0.86       166\n",
      "           1       0.77      0.78      0.78       101\n",
      "\n",
      "    accuracy                           0.83       267\n",
      "   macro avg       0.82      0.82      0.82       267\n",
      "weighted avg       0.83      0.83      0.83       267\n",
      "\n"
     ]
    }
   ],
   "source": [
    "print(classification_report(y_test,y_pred))"
   ]
  },
  {
   "cell_type": "code",
   "execution_count": 27,
   "id": "e9757291",
   "metadata": {},
   "outputs": [
    {
     "data": {
      "text/plain": [
       "array([[-1.03868991, -0.03965701, -0.23989023, -0.04214884,  1.1923166 ,\n",
       "        -1.1965502 ,  0.3460606 , -0.03357944, -0.31671476]])"
      ]
     },
     "execution_count": 27,
     "metadata": {},
     "output_type": "execute_result"
    }
   ],
   "source": [
    "LogReg.coef_"
   ]
  },
  {
   "cell_type": "code",
   "execution_count": 28,
   "id": "9cfec09e",
   "metadata": {},
   "outputs": [
    {
     "data": {
      "text/plain": [
       "array([3.64541822])"
      ]
     },
     "execution_count": 28,
     "metadata": {},
     "output_type": "execute_result"
    }
   ],
   "source": [
    "LogReg.intercept_"
   ]
  },
  {
   "cell_type": "code",
   "execution_count": 29,
   "id": "808a9685",
   "metadata": {},
   "outputs": [
    {
     "data": {
      "text/plain": [
       "Index(['Pclass', 'Age', 'SibSp', 'Parch', 'Sex_female', 'Sex_male',\n",
       "       'Embarked_C', 'Embarked_Q', 'Embarked_S'],\n",
       "      dtype='object')"
      ]
     },
     "execution_count": 29,
     "metadata": {},
     "output_type": "execute_result"
    }
   ],
   "source": [
    "df_train_dummied[used_features].columns"
   ]
  },
  {
   "cell_type": "code",
   "execution_count": 30,
   "id": "95a28a32",
   "metadata": {},
   "outputs": [
    {
     "data": {
      "text/plain": [
       "array([[0.26580964, 0.73419036],\n",
       "       [0.39684199, 0.60315801],\n",
       "       [0.94722269, 0.05277731],\n",
       "       [0.25853948, 0.74146052],\n",
       "       [0.94389889, 0.05610111],\n",
       "       [0.13535189, 0.86464811],\n",
       "       [0.33378304, 0.66621696],\n",
       "       [0.51877501, 0.48122499],\n",
       "       [0.78199823, 0.21800177],\n",
       "       [0.40760668, 0.59239332],\n",
       "       [0.74039356, 0.25960644],\n",
       "       [0.21219404, 0.78780596],\n",
       "       [0.74937464, 0.25062536],\n",
       "       [0.14640465, 0.85359535],\n",
       "       [0.86487336, 0.13512664],\n",
       "       [0.36993489, 0.63006511],\n",
       "       [0.89336038, 0.10663962],\n",
       "       [0.29789123, 0.70210877],\n",
       "       [0.1766608 , 0.8233392 ],\n",
       "       [0.39988309, 0.60011691],\n",
       "       [0.90490389, 0.09509611],\n",
       "       [0.55407916, 0.44592084],\n",
       "       [0.86421058, 0.13578942],\n",
       "       [0.93725593, 0.06274407],\n",
       "       [0.51698937, 0.48301063],\n",
       "       [0.51558469, 0.48441531],\n",
       "       [0.03941722, 0.96058278],\n",
       "       [0.86944127, 0.13055873],\n",
       "       [0.89803458, 0.10196542],\n",
       "       [0.32380994, 0.67619006],\n",
       "       [0.38860445, 0.61139555],\n",
       "       [0.40896554, 0.59103446],\n",
       "       [0.15575518, 0.84424482],\n",
       "       [0.4174991 , 0.5825009 ],\n",
       "       [0.59238797, 0.40761203],\n",
       "       [0.1664716 , 0.8335284 ],\n",
       "       [0.6577747 , 0.3422253 ],\n",
       "       [0.87387729, 0.12612271],\n",
       "       [0.24406534, 0.75593466],\n",
       "       [0.57649896, 0.42350104],\n",
       "       [0.43784481, 0.56215519],\n",
       "       [0.91105582, 0.08894418],\n",
       "       [0.31814242, 0.68185758],\n",
       "       [0.87387729, 0.12612271],\n",
       "       [0.79661506, 0.20338494],\n",
       "       [0.23602164, 0.76397836],\n",
       "       [0.17096638, 0.82903362],\n",
       "       [0.81635577, 0.18364423],\n",
       "       [0.06129247, 0.93870753],\n",
       "       [0.92350019, 0.07649981],\n",
       "       [0.87387729, 0.12612271],\n",
       "       [0.42826599, 0.57173401],\n",
       "       [0.88285484, 0.11714516],\n",
       "       [0.09173602, 0.90826398],\n",
       "       [0.74937464, 0.25062536],\n",
       "       [0.07124455, 0.92875545],\n",
       "       [0.77797559, 0.22202441],\n",
       "       [0.95171636, 0.04828364],\n",
       "       [0.70210413, 0.29789587],\n",
       "       [0.93687921, 0.06312079],\n",
       "       [0.81521248, 0.18478752],\n",
       "       [0.86017132, 0.13982868],\n",
       "       [0.59238797, 0.40761203],\n",
       "       [0.87387729, 0.12612271],\n",
       "       [0.42826599, 0.57173401],\n",
       "       [0.23682318, 0.76317682],\n",
       "       [0.87387729, 0.12612271],\n",
       "       [0.91151337, 0.08848663],\n",
       "       [0.84515125, 0.15484875],\n",
       "       [0.05492342, 0.94507658],\n",
       "       [0.86448724, 0.13551276],\n",
       "       [0.05701859, 0.94298141],\n",
       "       [0.6509918 , 0.3490082 ],\n",
       "       [0.86017132, 0.13982868],\n",
       "       [0.31474119, 0.68525881],\n",
       "       [0.13535189, 0.86464811],\n",
       "       [0.8392353 , 0.1607647 ],\n",
       "       [0.92363771, 0.07636229],\n",
       "       [0.82562728, 0.17437272],\n",
       "       [0.83352533, 0.16647467],\n",
       "       [0.8392353 , 0.1607647 ],\n",
       "       [0.86487336, 0.13512664],\n",
       "       [0.03941722, 0.96058278],\n",
       "       [0.06018668, 0.93981332],\n",
       "       [0.76397436, 0.23602564],\n",
       "       [0.62076982, 0.37923018],\n",
       "       [0.43621518, 0.56378482],\n",
       "       [0.42887623, 0.57112377],\n",
       "       [0.87387729, 0.12612271],\n",
       "       [0.36993489, 0.63006511],\n",
       "       [0.89785605, 0.10214395],\n",
       "       [0.32380994, 0.67619006],\n",
       "       [0.93410086, 0.06589914],\n",
       "       [0.78124037, 0.21875963],\n",
       "       [0.2467619 , 0.7532381 ],\n",
       "       [0.83921867, 0.16078133],\n",
       "       [0.23029162, 0.76970838],\n",
       "       [0.27489191, 0.72510809],\n",
       "       [0.2467619 , 0.7532381 ],\n",
       "       [0.21524629, 0.78475371],\n",
       "       [0.85035647, 0.14964353],\n",
       "       [0.34322048, 0.65677952],\n",
       "       [0.60647154, 0.39352846],\n",
       "       [0.85533304, 0.14466696],\n",
       "       [0.85533304, 0.14466696],\n",
       "       [0.90578523, 0.09421477],\n",
       "       [0.13646114, 0.86353886],\n",
       "       [0.85035647, 0.14964353],\n",
       "       [0.76738346, 0.23261654],\n",
       "       [0.81635577, 0.18364423],\n",
       "       [0.63970389, 0.36029611],\n",
       "       [0.74937464, 0.25062536],\n",
       "       [0.78124037, 0.21875963],\n",
       "       [0.18650669, 0.81349331],\n",
       "       [0.36000998, 0.63999002],\n",
       "       [0.08642817, 0.91357183],\n",
       "       [0.91565222, 0.08434778],\n",
       "       [0.40760668, 0.59239332],\n",
       "       [0.06429633, 0.93570367],\n",
       "       [0.79137307, 0.20862693],\n",
       "       [0.8781837 , 0.1218163 ],\n",
       "       [0.20627753, 0.79372247],\n",
       "       [0.32380994, 0.67619006],\n",
       "       [0.50423312, 0.49576688],\n",
       "       [0.20810077, 0.79189923],\n",
       "       [0.89227005, 0.10772995],\n",
       "       [0.44558701, 0.55441299],\n",
       "       [0.90948166, 0.09051834],\n",
       "       [0.88236287, 0.11763713],\n",
       "       [0.57655263, 0.42344737],\n",
       "       [0.44687826, 0.55312174],\n",
       "       [0.60647154, 0.39352846],\n",
       "       [0.87918824, 0.12081176],\n",
       "       [0.59238797, 0.40761203],\n",
       "       [0.36993489, 0.63006511],\n",
       "       [0.07120859, 0.92879141],\n",
       "       [0.86017132, 0.13982868],\n",
       "       [0.92625523, 0.07374477],\n",
       "       [0.87387729, 0.12612271],\n",
       "       [0.89034917, 0.10965083],\n",
       "       [0.85925378, 0.14074622],\n",
       "       [0.31516153, 0.68483847],\n",
       "       [0.92350019, 0.07649981],\n",
       "       [0.38906742, 0.61093258],\n",
       "       [0.59238797, 0.40761203],\n",
       "       [0.69236392, 0.30763608],\n",
       "       [0.18004338, 0.81995662],\n",
       "       [0.1071579 , 0.8928421 ],\n",
       "       [0.07934734, 0.92065266],\n",
       "       [0.92884627, 0.07115373],\n",
       "       [0.85591959, 0.14408041],\n",
       "       [0.93638443, 0.06361557],\n",
       "       [0.14236479, 0.85763521],\n",
       "       [0.85035647, 0.14964353],\n",
       "       [0.38054999, 0.61945001],\n",
       "       [0.36993489, 0.63006511],\n",
       "       [0.79011424, 0.20988576],\n",
       "       [0.37246229, 0.62753771],\n",
       "       [0.89034917, 0.10965083],\n",
       "       [0.87387729, 0.12612271],\n",
       "       [0.50423312, 0.49576688],\n",
       "       [0.77105022, 0.22894978],\n",
       "       [0.57655263, 0.42344737],\n",
       "       [0.86903344, 0.13096656],\n",
       "       [0.87303642, 0.12696358],\n",
       "       [0.8345783 , 0.1654217 ],\n",
       "       [0.13669087, 0.86330913],\n",
       "       [0.05968635, 0.94031365],\n",
       "       [0.77864788, 0.22135212],\n",
       "       [0.23727384, 0.76272616],\n",
       "       [0.85035647, 0.14964353],\n",
       "       [0.89902184, 0.10097816],\n",
       "       [0.8392353 , 0.1607647 ],\n",
       "       [0.87387729, 0.12612271],\n",
       "       [0.68078207, 0.31921793],\n",
       "       [0.29239415, 0.70760585],\n",
       "       [0.86487336, 0.13512664],\n",
       "       [0.71033153, 0.28966847],\n",
       "       [0.87387729, 0.12612271],\n",
       "       [0.85035647, 0.14964353],\n",
       "       [0.8392353 , 0.1607647 ],\n",
       "       [0.87387729, 0.12612271],\n",
       "       [0.65207337, 0.34792663],\n",
       "       [0.93214646, 0.06785354],\n",
       "       [0.32380994, 0.67619006],\n",
       "       [0.82494801, 0.17505199],\n",
       "       [0.37838065, 0.62161935],\n",
       "       [0.58277826, 0.41722174],\n",
       "       [0.22794833, 0.77205167],\n",
       "       [0.90490389, 0.09509611],\n",
       "       [0.7557055 , 0.2442945 ],\n",
       "       [0.71727655, 0.28272345],\n",
       "       [0.86487336, 0.13512664],\n",
       "       [0.76432547, 0.23567453],\n",
       "       [0.9366484 , 0.0633516 ],\n",
       "       [0.74794311, 0.25205689],\n",
       "       [0.89884485, 0.10115515],\n",
       "       [0.28890086, 0.71109914],\n",
       "       [0.59238797, 0.40761203],\n",
       "       [0.06632576, 0.93367424],\n",
       "       [0.70016635, 0.29983365],\n",
       "       [0.18364091, 0.81635909],\n",
       "       [0.77971518, 0.22028482],\n",
       "       [0.54848774, 0.45151226],\n",
       "       [0.04773838, 0.95226162],\n",
       "       [0.89034917, 0.10965083],\n",
       "       [0.87604655, 0.12395345],\n",
       "       [0.3221195 , 0.6778805 ],\n",
       "       [0.81020855, 0.18979145],\n",
       "       [0.08848485, 0.91151515],\n",
       "       [0.8392353 , 0.1607647 ],\n",
       "       [0.74185317, 0.25814683],\n",
       "       [0.78124037, 0.21875963],\n",
       "       [0.76738346, 0.23261654],\n",
       "       [0.30948622, 0.69051378],\n",
       "       [0.19533253, 0.80466747],\n",
       "       [0.75674882, 0.24325118],\n",
       "       [0.19328985, 0.80671015],\n",
       "       [0.9146602 , 0.0853398 ],\n",
       "       [0.69254005, 0.30745995],\n",
       "       [0.86903344, 0.13096656],\n",
       "       [0.49798126, 0.50201874],\n",
       "       [0.67042403, 0.32957597],\n",
       "       [0.22202058, 0.77797942],\n",
       "       [0.2436059 , 0.7563941 ],\n",
       "       [0.86487336, 0.13512664],\n",
       "       [0.57605017, 0.42394983],\n",
       "       [0.8392353 , 0.1607647 ],\n",
       "       [0.78794228, 0.21205772],\n",
       "       [0.74984234, 0.25015766],\n",
       "       [0.37838065, 0.62161935],\n",
       "       [0.2939934 , 0.7060066 ],\n",
       "       [0.46779609, 0.53220391],\n",
       "       [0.8392353 , 0.1607647 ],\n",
       "       [0.89785605, 0.10214395],\n",
       "       [0.89053922, 0.10946078],\n",
       "       [0.87387729, 0.12612271],\n",
       "       [0.79887326, 0.20112674],\n",
       "       [0.35581062, 0.64418938],\n",
       "       [0.8781837 , 0.1218163 ],\n",
       "       [0.29789123, 0.70210877],\n",
       "       [0.8392353 , 0.1607647 ],\n",
       "       [0.85035647, 0.14964353],\n",
       "       [0.67085434, 0.32914566],\n",
       "       [0.51669354, 0.48330646],\n",
       "       [0.09824363, 0.90175637],\n",
       "       [0.13389516, 0.86610484],\n",
       "       [0.79724562, 0.20275438],\n",
       "       [0.69212507, 0.30787493],\n",
       "       [0.87409186, 0.12590814],\n",
       "       [0.24230662, 0.75769338],\n",
       "       [0.32380994, 0.67619006],\n",
       "       [0.39806716, 0.60193284],\n",
       "       [0.94108699, 0.05891301],\n",
       "       [0.10964866, 0.89035134],\n",
       "       [0.22566022, 0.77433978],\n",
       "       [0.88236287, 0.11763713],\n",
       "       [0.90490389, 0.09509611],\n",
       "       [0.03960636, 0.96039364],\n",
       "       [0.78124037, 0.21875963],\n",
       "       [0.20215155, 0.79784845],\n",
       "       [0.87326584, 0.12673416],\n",
       "       [0.65833541, 0.34166459],\n",
       "       [0.87387729, 0.12612271],\n",
       "       [0.2939934 , 0.7060066 ],\n",
       "       [0.8392353 , 0.1607647 ],\n",
       "       [0.91207087, 0.08792913]])"
      ]
     },
     "execution_count": 30,
     "metadata": {},
     "output_type": "execute_result"
    }
   ],
   "source": [
    "LogReg.predict_proba(X_test)"
   ]
  },
  {
   "cell_type": "code",
   "execution_count": null,
   "id": "a307cb94",
   "metadata": {},
   "outputs": [],
   "source": []
  }
 ],
 "metadata": {
  "kernelspec": {
   "display_name": "Python 3",
   "language": "python",
   "name": "python3"
  },
  "language_info": {
   "codemirror_mode": {
    "name": "ipython",
    "version": 3
   },
   "file_extension": ".py",
   "mimetype": "text/x-python",
   "name": "python",
   "nbconvert_exporter": "python",
   "pygments_lexer": "ipython3",
   "version": "3.6.13"
  }
 },
 "nbformat": 4,
 "nbformat_minor": 5
}
